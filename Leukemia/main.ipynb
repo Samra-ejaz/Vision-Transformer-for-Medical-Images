{
 "cells": [
  {
   "cell_type": "code",
   "execution_count": 1,
   "id": "c1285d7e-fcd9-49d1-b486-7485150c53a9",
   "metadata": {},
   "outputs": [
    {
     "name": "stdout",
     "output_type": "stream",
     "text": [
      "The history saving thread hit an unexpected error (DatabaseError('database disk image is malformed')).History will not be written to the database.\n"
     ]
    }
   ],
   "source": [
    "import tensorflow as tf\n",
    "from vit import ViTClassfier\n",
    "from utils import plot_grid_ds, AttrDict, BalancedSparseCategoricalAccuracy"
   ]
  },
  {
   "cell_type": "markdown",
   "id": "fd2113eb-4cdf-406b-9db0-bc4dc2ecf624",
   "metadata": {},
   "source": [
    "### 1. Exploratory Data Analysis"
   ]
  },
  {
   "cell_type": "code",
   "execution_count": 32,
   "id": "5c5fd12c-c679-4c2b-97f1-d5955ebb3707",
   "metadata": {},
   "outputs": [],
   "source": [
    "from pathlib import Path\n",
    "import numpy as np\n",
    "import pandas as pd\n",
    "import matplotlib.pyplot as plt\n",
    "import os\n",
    "import glob\n",
    "\n",
    "path = Path(\"dataset\")\n",
    "img_as_jpg = list(path.glob(r\"*/*.bmp\"))\n",
    "\n",
    "# Counts the number of each categories in the dataset\n",
    "file_count = list(map(lambda x: os.path.split(os.path.split(x)[0])[1], img_as_jpg))\n",
    "all_ = file_count.count('all')\n",
    "hem = file_count.count('hem')"
   ]
  },
  {
   "cell_type": "code",
   "execution_count": 33,
   "id": "dad89383",
   "metadata": {},
   "outputs": [],
   "source": [
    "train_dataset_0_all=glob.glob('dataset/training/fold_0/all/*.bmp')\n",
    "train_dataset_0_hem=glob.glob('dataset/training/fold_0/hem/*.bmp')\n",
    "train_dataset_1_all=glob.glob('dataset/training/fold_1/all/*.bmp')\n",
    "train_dataset_1_hem=glob.glob('dataset/training/fold_1/hem/*.bmp')\n",
    "train_dataset_2_all=glob.glob('dataset/training/fold_2/all/*.bmp')\n",
    "train_dataset_2_hem=glob.glob('dataset/training/fold_2/hem/*.bmp')"
   ]
  },
  {
   "cell_type": "code",
   "execution_count": 63,
   "id": "9d942f4e",
   "metadata": {},
   "outputs": [],
   "source": [
    "test=pd.read_csv('dataset/validation/C-NMC_test_prelim_phase_data_labels.csv')"
   ]
  },
  {
   "cell_type": "code",
   "execution_count": 35,
   "id": "d1f78b33-0ac1-4cb1-83ed-35803af1933a",
   "metadata": {},
   "outputs": [
    {
     "name": "stdout",
     "output_type": "stream",
     "text": [
      "count: 7272\n"
     ]
    }
   ],
   "source": [
    "a,b,c=len(train_dataset_0_all),len(train_dataset_1_all),len(train_dataset_2_all)\n",
    "d=a+b+c\n",
    "print('count:',d)"
   ]
  },
  {
   "cell_type": "code",
   "execution_count": 36,
   "id": "726bac70",
   "metadata": {},
   "outputs": [
    {
     "name": "stdout",
     "output_type": "stream",
     "text": [
      "count: 3389\n"
     ]
    }
   ],
   "source": [
    "a,b,c=len(train_dataset_0_hem),len(train_dataset_1_hem),len(train_dataset_2_hem)\n",
    "d=a+b+c\n",
    "print('count:',d)"
   ]
  },
  {
   "cell_type": "code",
   "execution_count": 37,
   "id": "cc53be7d",
   "metadata": {},
   "outputs": [
    {
     "name": "stdout",
     "output_type": "stream",
     "text": [
      "7272\n",
      "3389\n"
     ]
    }
   ],
   "source": [
    "A=[]\n",
    "H=[]\n",
    "A.extend(train_dataset_0_all)\n",
    "A.extend(train_dataset_1_all)\n",
    "A.extend(train_dataset_2_all)\n",
    "H.extend(train_dataset_0_hem)\n",
    "H.extend(train_dataset_1_hem)\n",
    "H.extend(train_dataset_2_hem)\n",
    "print(len(A))\n",
    "print(len(H))"
   ]
  },
  {
   "cell_type": "code",
   "execution_count": 64,
   "id": "374df4ad",
   "metadata": {},
   "outputs": [],
   "source": [
    "del test[\"Patient_ID\"]"
   ]
  },
  {
   "cell_type": "code",
   "execution_count": 65,
   "id": "89c07e59",
   "metadata": {},
   "outputs": [],
   "source": [
    "test[\"labels\"] = [\"ALL\" if i == 1 else \"HEM\" for i in test[\"labels\"]]"
   ]
  },
  {
   "cell_type": "code",
   "execution_count": 66,
   "id": "3876d834",
   "metadata": {},
   "outputs": [],
   "source": [
    "test.columns = [\"image\", \"labels\"]"
   ]
  },
  {
   "cell_type": "code",
   "execution_count": 67,
   "id": "8e87b6b3",
   "metadata": {},
   "outputs": [],
   "source": [
    "test['image'] = [\"dataset/validation/C-NMC_test_prelim_phase_data/\"+i for i in test['image']]"
   ]
  },
  {
   "cell_type": "code",
   "execution_count": 68,
   "id": "d36f1ff4",
   "metadata": {},
   "outputs": [
    {
     "name": "stdout",
     "output_type": "stream",
     "text": [
      "<class 'pandas.core.frame.DataFrame'>\n",
      "RangeIndex: 1867 entries, 0 to 1866\n",
      "Data columns (total 2 columns):\n",
      " #   Column  Non-Null Count  Dtype \n",
      "---  ------  --------------  ----- \n",
      " 0   image   1867 non-null   object\n",
      " 1   labels  1867 non-null   object\n",
      "dtypes: object(2)\n",
      "memory usage: 29.3+ KB\n"
     ]
    }
   ],
   "source": [
    "test.info()"
   ]
  },
  {
   "cell_type": "code",
   "execution_count": 69,
   "id": "c02052c5",
   "metadata": {},
   "outputs": [
    {
     "data": {
      "text/html": [
       "<div>\n",
       "<style scoped>\n",
       "    .dataframe tbody tr th:only-of-type {\n",
       "        vertical-align: middle;\n",
       "    }\n",
       "\n",
       "    .dataframe tbody tr th {\n",
       "        vertical-align: top;\n",
       "    }\n",
       "\n",
       "    .dataframe thead th {\n",
       "        text-align: right;\n",
       "    }\n",
       "</style>\n",
       "<table border=\"1\" class=\"dataframe\">\n",
       "  <thead>\n",
       "    <tr style=\"text-align: right;\">\n",
       "      <th></th>\n",
       "      <th>image</th>\n",
       "      <th>labels</th>\n",
       "    </tr>\n",
       "  </thead>\n",
       "  <tbody>\n",
       "    <tr>\n",
       "      <th>0</th>\n",
       "      <td>dataset/validation/C-NMC_test_prelim_phase_dat...</td>\n",
       "      <td>ALL</td>\n",
       "    </tr>\n",
       "    <tr>\n",
       "      <th>1</th>\n",
       "      <td>dataset/validation/C-NMC_test_prelim_phase_dat...</td>\n",
       "      <td>ALL</td>\n",
       "    </tr>\n",
       "    <tr>\n",
       "      <th>2</th>\n",
       "      <td>dataset/validation/C-NMC_test_prelim_phase_dat...</td>\n",
       "      <td>ALL</td>\n",
       "    </tr>\n",
       "    <tr>\n",
       "      <th>3</th>\n",
       "      <td>dataset/validation/C-NMC_test_prelim_phase_dat...</td>\n",
       "      <td>HEM</td>\n",
       "    </tr>\n",
       "    <tr>\n",
       "      <th>4</th>\n",
       "      <td>dataset/validation/C-NMC_test_prelim_phase_dat...</td>\n",
       "      <td>ALL</td>\n",
       "    </tr>\n",
       "    <tr>\n",
       "      <th>...</th>\n",
       "      <td>...</td>\n",
       "      <td>...</td>\n",
       "    </tr>\n",
       "    <tr>\n",
       "      <th>1862</th>\n",
       "      <td>dataset/validation/C-NMC_test_prelim_phase_dat...</td>\n",
       "      <td>ALL</td>\n",
       "    </tr>\n",
       "    <tr>\n",
       "      <th>1863</th>\n",
       "      <td>dataset/validation/C-NMC_test_prelim_phase_dat...</td>\n",
       "      <td>ALL</td>\n",
       "    </tr>\n",
       "    <tr>\n",
       "      <th>1864</th>\n",
       "      <td>dataset/validation/C-NMC_test_prelim_phase_dat...</td>\n",
       "      <td>HEM</td>\n",
       "    </tr>\n",
       "    <tr>\n",
       "      <th>1865</th>\n",
       "      <td>dataset/validation/C-NMC_test_prelim_phase_dat...</td>\n",
       "      <td>ALL</td>\n",
       "    </tr>\n",
       "    <tr>\n",
       "      <th>1866</th>\n",
       "      <td>dataset/validation/C-NMC_test_prelim_phase_dat...</td>\n",
       "      <td>ALL</td>\n",
       "    </tr>\n",
       "  </tbody>\n",
       "</table>\n",
       "<p>1867 rows × 2 columns</p>\n",
       "</div>"
      ],
      "text/plain": [
       "                                                  image labels\n",
       "0     dataset/validation/C-NMC_test_prelim_phase_dat...    ALL\n",
       "1     dataset/validation/C-NMC_test_prelim_phase_dat...    ALL\n",
       "2     dataset/validation/C-NMC_test_prelim_phase_dat...    ALL\n",
       "3     dataset/validation/C-NMC_test_prelim_phase_dat...    HEM\n",
       "4     dataset/validation/C-NMC_test_prelim_phase_dat...    ALL\n",
       "...                                                 ...    ...\n",
       "1862  dataset/validation/C-NMC_test_prelim_phase_dat...    ALL\n",
       "1863  dataset/validation/C-NMC_test_prelim_phase_dat...    ALL\n",
       "1864  dataset/validation/C-NMC_test_prelim_phase_dat...    HEM\n",
       "1865  dataset/validation/C-NMC_test_prelim_phase_dat...    ALL\n",
       "1866  dataset/validation/C-NMC_test_prelim_phase_dat...    ALL\n",
       "\n",
       "[1867 rows x 2 columns]"
      ]
     },
     "execution_count": 69,
     "metadata": {},
     "output_type": "execute_result"
    }
   ],
   "source": [
    "test"
   ]
  },
  {
   "cell_type": "code",
   "execution_count": 42,
   "id": "e2934cd0",
   "metadata": {},
   "outputs": [],
   "source": [
    "training = pd.DataFrame(A, columns=['image'])"
   ]
  },
  {
   "cell_type": "code",
   "execution_count": 43,
   "id": "9c53a49c",
   "metadata": {},
   "outputs": [],
   "source": [
    "training['labels'] = [\"ALL\" for i in range(len(A))]"
   ]
  },
  {
   "cell_type": "code",
   "execution_count": 44,
   "id": "d0d8569b",
   "metadata": {},
   "outputs": [],
   "source": [
    "training = training.append(pd.DataFrame({'image':H, 'labels':[\"HEM\" for i in range(len(H))]}), ignore_index=True)"
   ]
  },
  {
   "cell_type": "code",
   "execution_count": 45,
   "id": "ad6c3001",
   "metadata": {},
   "outputs": [],
   "source": [
    "A=np.array(A)\n",
    "H=np.array(H)"
   ]
  },
  {
   "cell_type": "code",
   "execution_count": 46,
   "id": "0a02e643-2dfb-4f79-95b6-ee6e37cff460",
   "metadata": {},
   "outputs": [
    {
     "data": {
      "image/png": "[encoded data removed]",
      "text/plain": [
       "<Figure size 576x576 with 16 Axes>"
      ]
     },
     "metadata": {
      "needs_background": "light"
     },
     "output_type": "display_data"
    }
   ],
   "source": [
    "fig, axes = plt.subplots(4, 4, figsize=(8, 8))\n",
    "fig.tight_layout()\n",
    "counter = 0\n",
    "for ax in axes.reshape(-1): \n",
    "    ax.imshow(plt.imread(training[\"image\"][counter]))\n",
    "    ax.set_title(training[\"labels\"][counter])\n",
    "    plt.rcParams[\"axes.grid\"] = False\n",
    "    counter = counter+1"
   ]
  },
  {
   "cell_type": "markdown",
   "id": "dee4fadd-e802-46a5-8892-f663e4b6df10",
   "metadata": {},
   "source": [
    "## 2. Model"
   ]
  },
  {
   "cell_type": "code",
   "execution_count": 73,
   "id": "e2b6ba79-b907-4db0-b4cd-7fa5be809251",
   "metadata": {},
   "outputs": [
    {
     "name": "stdout",
     "output_type": "stream",
     "text": [
      "Found 10661 validated image filenames belonging to 2 classes.\n",
      "Found 1867 validated image filenames belonging to 2 classes.\n"
     ]
    }
   ],
   "source": [
    "from tensorflow.keras.preprocessing.image import ImageDataGenerator\n",
    "\n",
    "train_gen = ImageDataGenerator()\n",
    "val_gen = ImageDataGenerator()\n",
    "\n",
    "train_ds = train_gen.flow_from_dataframe(\n",
    "    training,\n",
    "    x_col=\"image\",\n",
    "    y_col=\"labels\",\n",
    "    target_size=(128, 128),\n",
    "    batch_size=64,\n",
    "    color_mode=\"rgb\",\n",
    "    shuffle=True,\n",
    "    class_mode='binary')\n",
    "\n",
    "validation_ds = train_gen.flow_from_dataframe(\n",
    "    test,\n",
    "    x_col=\"image\",\n",
    "    y_col=\"labels\",\n",
    "    target_size=(128, 128),\n",
    "    batch_size=64,\n",
    "    color_mode=\"rgb\",\n",
    "    shuffle=True,\n",
    "    class_mode='binary')"
   ]
  },
  {
   "cell_type": "code",
   "execution_count": 74,
   "id": "89afbf58",
   "metadata": {},
   "outputs": [
    {
     "name": "stdout",
     "output_type": "stream",
     "text": [
      "Tue Jul  6 18:38:08 2021       \n",
      "+-----------------------------------------------------------------------------+\n",
      "| NVIDIA-SMI 465.19.01    Driver Version: 465.19.01    CUDA Version: 11.3     |\n",
      "|-------------------------------+----------------------+----------------------+\n",
      "| GPU  Name        Persistence-M| Bus-Id        Disp.A | Volatile Uncorr. ECC |\n",
      "| Fan  Temp  Perf  Pwr:Usage/Cap|         Memory-Usage | GPU-Util  Compute M. |\n",
      "|                               |                      |               MIG M. |\n",
      "|===============================+======================+======================|\n",
      "|   0  NVIDIA Tesla V1...  On   | 00000000:1A:00.0 Off |                    0 |\n",
      "| N/A   31C    P0    43W / 300W |      0MiB / 32510MiB |      0%      Default |\n",
      "|                               |                      |                  N/A |\n",
      "+-------------------------------+----------------------+----------------------+\n",
      "|   1  NVIDIA Tesla V1...  On   | 00000000:1B:00.0 Off |                    0 |\n",
      "| N/A   35C    P0    44W / 300W |      0MiB / 32510MiB |      0%      Default |\n",
      "|                               |                      |                  N/A |\n",
      "+-------------------------------+----------------------+----------------------+\n",
      "|   2  NVIDIA Tesla V1...  On   | 00000000:3D:00.0 Off |                    0 |\n",
      "| N/A   35C    P0    43W / 300W |      0MiB / 32510MiB |      0%      Default |\n",
      "|                               |                      |                  N/A |\n",
      "+-------------------------------+----------------------+----------------------+\n",
      "|   3  NVIDIA Tesla V1...  On   | 00000000:3E:00.0 Off |                    0 |\n",
      "| N/A   30C    P0    41W / 300W |      0MiB / 32510MiB |      0%      Default |\n",
      "|                               |                      |                  N/A |\n",
      "+-------------------------------+----------------------+----------------------+\n",
      "|   4  NVIDIA Tesla V1...  On   | 00000000:88:00.0 Off |                    0 |\n",
      "| N/A   34C    P0    43W / 300W |      0MiB / 32510MiB |      0%      Default |\n",
      "|                               |                      |                  N/A |\n",
      "+-------------------------------+----------------------+----------------------+\n",
      "|   5  NVIDIA Tesla V1...  On   | 00000000:89:00.0 Off |                    0 |\n",
      "| N/A   37C    P0    41W / 300W |      0MiB / 32510MiB |      0%      Default |\n",
      "|                               |                      |                  N/A |\n",
      "+-------------------------------+----------------------+----------------------+\n",
      "|   6  NVIDIA Tesla V1...  On   | 00000000:B2:00.0 Off |                    0 |\n",
      "| N/A   36C    P0    42W / 300W |      0MiB / 32510MiB |      0%      Default |\n",
      "|                               |                      |                  N/A |\n",
      "+-------------------------------+----------------------+----------------------+\n",
      "|   7  NVIDIA Tesla V1...  On   | 00000000:B3:00.0 Off |                    0 |\n",
      "| N/A   32C    P0    42W / 300W |      0MiB / 32510MiB |      0%      Default |\n",
      "|                               |                      |                  N/A |\n",
      "+-------------------------------+----------------------+----------------------+\n",
      "                                                                               \n",
      "+-----------------------------------------------------------------------------+\n",
      "| Processes:                                                                  |\n",
      "|  GPU   GI   CI        PID   Type   Process name                  GPU Memory |\n",
      "|        ID   ID                                                   Usage      |\n",
      "|=============================================================================|\n",
      "|  No running processes found                                                 |\n",
      "+-----------------------------------------------------------------------------+\n"
     ]
    }
   ],
   "source": [
    "!nvidia-smi"
   ]
  },
  {
   "cell_type": "code",
   "execution_count": 78,
   "id": "4dd9b048",
   "metadata": {},
   "outputs": [],
   "source": [
    "## train_test structure\n",
    "hparams = AttrDict(\n",
    "    image_size=(128, 128, 3),\n",
    "    n_classes=2,\n",
    "    batch_size=64,\n",
    ")\n",
    "\n",
    " "
   ]
  },
  {
   "cell_type": "code",
   "execution_count": 75,
   "id": "ff5ec7d3",
   "metadata": {},
   "outputs": [
    {
     "data": {
      "text/plain": [
       "<tensorflow.python.keras.preprocessing.image.DataFrameIterator at 0x2b21d16f1400>"
      ]
     },
     "execution_count": 75,
     "metadata": {},
     "output_type": "execute_result"
    }
   ],
   "source": [
    "train_ds"
   ]
  },
  {
   "cell_type": "code",
   "execution_count": 79,
   "id": "b6a7cf73-f4fd-4af6-a453-ac1e8835ffff",
   "metadata": {},
   "outputs": [
    {
     "name": "stdout",
     "output_type": "stream",
     "text": [
      "INFO:tensorflow:Using MirroredStrategy with devices ('/job:localhost/replica:0/task:0/device:GPU:0', '/job:localhost/replica:0/task:0/device:GPU:1', '/job:localhost/replica:0/task:0/device:GPU:2', '/job:localhost/replica:0/task:0/device:GPU:3', '/job:localhost/replica:0/task:0/device:GPU:4', '/job:localhost/replica:0/task:0/device:GPU:5', '/job:localhost/replica:0/task:0/device:GPU:6', '/job:localhost/replica:0/task:0/device:GPU:7')\n",
      "WARNING:tensorflow:AutoGraph could not transform <bound method Patches.call of <vit.Patches object at 0x2b21d206dd00>> and will run it as-is.\n",
      "Please report this to the TensorFlow team. When filing the bug, set the verbosity to 10 (on Linux, `export AUTOGRAPH_VERBOSITY=10`) and attach the full output.\n",
      "Cause: module 'gast' has no attribute 'Index'\n",
      "To silence this warning, decorate the function with @tf.autograph.experimental.do_not_convert\n",
      "WARNING: AutoGraph could not transform <bound method Patches.call of <vit.Patches object at 0x2b21d206dd00>> and will run it as-is.\n",
      "Please report this to the TensorFlow team. When filing the bug, set the verbosity to 10 (on Linux, `export AUTOGRAPH_VERBOSITY=10`) and attach the full output.\n",
      "Cause: module 'gast' has no attribute 'Index'\n",
      "To silence this warning, decorate the function with @tf.autograph.experimental.do_not_convert\n",
      "INFO:tensorflow:Reduce to /job:localhost/replica:0/task:0/device:CPU:0 then broadcast to ('/job:localhost/replica:0/task:0/device:CPU:0',).\n",
      "INFO:tensorflow:Reduce to /job:localhost/replica:0/task:0/device:CPU:0 then broadcast to ('/job:localhost/replica:0/task:0/device:CPU:0',).\n",
      "INFO:tensorflow:Reduce to /job:localhost/replica:0/task:0/device:CPU:0 then broadcast to ('/job:localhost/replica:0/task:0/device:CPU:0',).\n",
      "INFO:tensorflow:Reduce to /job:localhost/replica:0/task:0/device:CPU:0 then broadcast to ('/job:localhost/replica:0/task:0/device:CPU:0',).\n",
      "INFO:tensorflow:Reduce to /job:localhost/replica:0/task:0/device:CPU:0 then broadcast to ('/job:localhost/replica:0/task:0/device:CPU:0',).\n",
      "INFO:tensorflow:Reduce to /job:localhost/replica:0/task:0/device:CPU:0 then broadcast to ('/job:localhost/replica:0/task:0/device:CPU:0',).\n",
      "INFO:tensorflow:Reduce to /job:localhost/replica:0/task:0/device:CPU:0 then broadcast to ('/job:localhost/replica:0/task:0/device:CPU:0',).\n",
      "INFO:tensorflow:Reduce to /job:localhost/replica:0/task:0/device:CPU:0 then broadcast to ('/job:localhost/replica:0/task:0/device:CPU:0',).\n"
     ]
    }
   ],
   "source": [
    "strategy = tf.distribute.MirroredStrategy()\n",
    "\n",
    "with strategy.scope():\n",
    "    model = ViTClassfier(hparams.image_size, hparams.n_classes)\n",
    "    \n",
    "    model.compile(\n",
    "        optimizer=tf.keras.optimizers.Adam(),\n",
    "        loss=tf.keras.losses.SparseCategoricalCrossentropy(from_logits=True),\n",
    "        metrics=[\"accuracy\", BalancedSparseCategoricalAccuracy()]\n",
    "    )"
   ]
  },
  {
   "cell_type": "code",
   "execution_count": 80,
   "id": "56289821-33e6-477b-af5d-2c00b961c05f",
   "metadata": {},
   "outputs": [
    {
     "name": "stdout",
     "output_type": "stream",
     "text": [
      "WARNING:tensorflow:Using MirroredStrategy eagerly has significant overhead currently. We will be working on improving this in the future, but for now please wrap `call_for_each_replica` or `experimental_run` or `run` inside a tf.function to get the best performance.\n",
      "Epoch 1/20\n",
      "INFO:tensorflow:batch_all_reduce: 26 all-reduces with algorithm = nccl, num_packs = 1\n",
      "WARNING:tensorflow:Efficient allreduce is not supported for 1 IndexedSlices\n",
      "INFO:tensorflow:Reduce to /job:localhost/replica:0/task:0/device:GPU:0 then broadcast to ('/job:localhost/replica:0/task:0/device:GPU:0', '/job:localhost/replica:0/task:0/device:GPU:1', '/job:localhost/replica:0/task:0/device:GPU:2', '/job:localhost/replica:0/task:0/device:GPU:3', '/job:localhost/replica:0/task:0/device:GPU:4', '/job:localhost/replica:0/task:0/device:GPU:5', '/job:localhost/replica:0/task:0/device:GPU:6', '/job:localhost/replica:0/task:0/device:GPU:7').\n",
      "INFO:tensorflow:Reduce to /job:localhost/replica:0/task:0/device:CPU:0 then broadcast to ('/job:localhost/replica:0/task:0/device:CPU:0',).\n",
      "INFO:tensorflow:Reduce to /job:localhost/replica:0/task:0/device:CPU:0 then broadcast to ('/job:localhost/replica:0/task:0/device:CPU:0',).\n",
      "INFO:tensorflow:batch_all_reduce: 26 all-reduces with algorithm = nccl, num_packs = 1\n",
      "WARNING:tensorflow:Efficient allreduce is not supported for 1 IndexedSlices\n",
      "INFO:tensorflow:Reduce to /job:localhost/replica:0/task:0/device:GPU:0 then broadcast to ('/job:localhost/replica:0/task:0/device:GPU:0', '/job:localhost/replica:0/task:0/device:GPU:1', '/job:localhost/replica:0/task:0/device:GPU:2', '/job:localhost/replica:0/task:0/device:GPU:3', '/job:localhost/replica:0/task:0/device:GPU:4', '/job:localhost/replica:0/task:0/device:GPU:5', '/job:localhost/replica:0/task:0/device:GPU:6', '/job:localhost/replica:0/task:0/device:GPU:7').\n",
      "167/167 [==============================] - 422s 2s/step - loss: 2.8674 - accuracy: 0.7183 - balanced_sparse_categorical_accuracy: 0.6612 - val_loss: 0.6841 - val_accuracy: 0.6995 - val_balanced_sparse_categorical_accuracy: 0.5910\n",
      "Epoch 2/20\n",
      "167/167 [==============================] - 87s 519ms/step - loss: 0.4698 - accuracy: 0.7949 - balanced_sparse_categorical_accuracy: 0.7286 - val_loss: 0.6138 - val_accuracy: 0.6883 - val_balanced_sparse_categorical_accuracy: 0.5997\n",
      "Epoch 3/20\n",
      "167/167 [==============================] - 82s 493ms/step - loss: 0.4689 - accuracy: 0.7886 - balanced_sparse_categorical_accuracy: 0.7146 - val_loss: 0.6916 - val_accuracy: 0.6877 - val_balanced_sparse_categorical_accuracy: 0.5573\n",
      "Epoch 4/20\n",
      "167/167 [==============================] - 91s 544ms/step - loss: 0.4611 - accuracy: 0.7973 - balanced_sparse_categorical_accuracy: 0.7302 - val_loss: 0.6343 - val_accuracy: 0.6915 - val_balanced_sparse_categorical_accuracy: 0.6215\n",
      "Epoch 5/20\n",
      "167/167 [==============================] - 79s 475ms/step - loss: 0.4360 - accuracy: 0.8097 - balanced_sparse_categorical_accuracy: 0.7561 - val_loss: 0.6001 - val_accuracy: 0.6974 - val_balanced_sparse_categorical_accuracy: 0.6423\n",
      "Epoch 6/20\n",
      "167/167 [==============================] - 83s 498ms/step - loss: 0.4368 - accuracy: 0.8105 - balanced_sparse_categorical_accuracy: 0.7503 - val_loss: 0.6145 - val_accuracy: 0.7108 - val_balanced_sparse_categorical_accuracy: 0.6206\n",
      "Epoch 7/20\n",
      "167/167 [==============================] - 91s 544ms/step - loss: 0.4345 - accuracy: 0.8103 - balanced_sparse_categorical_accuracy: 0.7635 - val_loss: 0.7238 - val_accuracy: 0.7193 - val_balanced_sparse_categorical_accuracy: 0.6194\n",
      "Epoch 8/20\n",
      "167/167 [==============================] - 83s 496ms/step - loss: 0.4257 - accuracy: 0.8197 - balanced_sparse_categorical_accuracy: 0.7766 - val_loss: 0.6205 - val_accuracy: 0.7076 - val_balanced_sparse_categorical_accuracy: 0.6548\n",
      "Epoch 9/20\n",
      "167/167 [==============================] - 83s 492ms/step - loss: 0.4155 - accuracy: 0.8180 - balanced_sparse_categorical_accuracy: 0.7705 - val_loss: 0.5810 - val_accuracy: 0.7225 - val_balanced_sparse_categorical_accuracy: 0.6447\n",
      "Epoch 10/20\n",
      "167/167 [==============================] - 86s 514ms/step - loss: 0.4091 - accuracy: 0.8258 - balanced_sparse_categorical_accuracy: 0.7801 - val_loss: 0.6332 - val_accuracy: 0.7145 - val_balanced_sparse_categorical_accuracy: 0.6492\n",
      "Epoch 11/20\n",
      "167/167 [==============================] - 76s 456ms/step - loss: 0.4044 - accuracy: 0.8283 - balanced_sparse_categorical_accuracy: 0.7771 - val_loss: 0.6126 - val_accuracy: 0.7086 - val_balanced_sparse_categorical_accuracy: 0.6515\n",
      "Epoch 12/20\n",
      "167/167 [==============================] - 86s 514ms/step - loss: 0.3896 - accuracy: 0.8331 - balanced_sparse_categorical_accuracy: 0.7901 - val_loss: 0.6358 - val_accuracy: 0.6786 - val_balanced_sparse_categorical_accuracy: 0.6321\n",
      "Epoch 13/20\n",
      "167/167 [==============================] - 85s 512ms/step - loss: 0.3883 - accuracy: 0.8343 - balanced_sparse_categorical_accuracy: 0.7897 - val_loss: 0.6024 - val_accuracy: 0.7151 - val_balanced_sparse_categorical_accuracy: 0.6374\n",
      "Epoch 14/20\n",
      "167/167 [==============================] - 82s 489ms/step - loss: 0.3882 - accuracy: 0.8346 - balanced_sparse_categorical_accuracy: 0.7977 - val_loss: 0.6009 - val_accuracy: 0.7108 - val_balanced_sparse_categorical_accuracy: 0.6242\n",
      "Epoch 15/20\n",
      "167/167 [==============================] - 84s 502ms/step - loss: 0.3732 - accuracy: 0.8421 - balanced_sparse_categorical_accuracy: 0.7973 - val_loss: 0.6568 - val_accuracy: 0.7193 - val_balanced_sparse_categorical_accuracy: 0.6243\n",
      "Epoch 16/20\n",
      "167/167 [==============================] - 81s 486ms/step - loss: 0.3506 - accuracy: 0.8472 - balanced_sparse_categorical_accuracy: 0.8052 - val_loss: 0.7066 - val_accuracy: 0.7108 - val_balanced_sparse_categorical_accuracy: 0.5886\n",
      "Epoch 17/20\n",
      "167/167 [==============================] - 80s 476ms/step - loss: 0.3669 - accuracy: 0.8429 - balanced_sparse_categorical_accuracy: 0.8038 - val_loss: 0.7209 - val_accuracy: 0.7033 - val_balanced_sparse_categorical_accuracy: 0.6374\n",
      "Epoch 18/20\n",
      "167/167 [==============================] - 84s 500ms/step - loss: 0.3374 - accuracy: 0.8499 - balanced_sparse_categorical_accuracy: 0.8057 - val_loss: 0.6573 - val_accuracy: 0.7145 - val_balanced_sparse_categorical_accuracy: 0.6463\n",
      "Epoch 19/20\n",
      "167/167 [==============================] - 89s 532ms/step - loss: 0.3332 - accuracy: 0.8603 - balanced_sparse_categorical_accuracy: 0.8278 - val_loss: 0.7548 - val_accuracy: 0.7199 - val_balanced_sparse_categorical_accuracy: 0.6290\n",
      "Epoch 20/20\n",
      "167/167 [==============================] - 85s 506ms/step - loss: 0.3259 - accuracy: 0.8612 - balanced_sparse_categorical_accuracy: 0.8253 - val_loss: 0.7237 - val_accuracy: 0.7225 - val_balanced_sparse_categorical_accuracy: 0.6525\n"
     ]
    },
    {
     "data": {
      "text/plain": [
       "<tensorflow.python.keras.callbacks.History at 0x2b21d1db5df0>"
      ]
     },
     "execution_count": 80,
     "metadata": {},
     "output_type": "execute_result"
    }
   ],
   "source": [
    "model.fit(train_ds, epochs=20, validation_data=validation_ds)"
   ]
  },
  {
   "cell_type": "code",
   "execution_count": 84,
   "id": "e67a6cbd-5d30-44b7-8a6f-b8d302f61377",
   "metadata": {},
   "outputs": [
    {
     "name": "stderr",
     "output_type": "stream",
     "text": [
      "WARNING:absl:Found untraced functions such as dense_layer_call_fn, dense_layer_call_and_return_conditional_losses, embedding_layer_call_fn, embedding_layer_call_and_return_conditional_losses, query_layer_call_fn while saving (showing 5 of 40). These functions will not be directly callable after loading.\n",
      "WARNING:absl:Found untraced functions such as dense_layer_call_fn, dense_layer_call_and_return_conditional_losses, embedding_layer_call_fn, embedding_layer_call_and_return_conditional_losses, query_layer_call_fn while saving (showing 5 of 40). These functions will not be directly callable after loading.\n"
     ]
    },
    {
     "name": "stdout",
     "output_type": "stream",
     "text": [
      "INFO:tensorflow:Assets written to: models/ViT_on_10_epochs.model/assets\n"
     ]
    },
    {
     "name": "stderr",
     "output_type": "stream",
     "text": [
      "INFO:tensorflow:Assets written to: models/ViT_on_10_epochs.model/assets\n"
     ]
    }
   ],
   "source": [
    "model.save(\"models/ViT_on_10_epochs.model\")"
   ]
  },
  {
   "cell_type": "code",
   "execution_count": null,
   "id": "885b40a3",
   "metadata": {},
   "outputs": [],
   "source": []
  }
 ],
 "metadata": {
  "kernelspec": {
   "display_name": "Python 3",
   "language": "python",
   "name": "python3"
  },
  "language_info": {
   "codemirror_mode": {
    "name": "ipython",
    "version": 3
   },
   "file_extension": ".py",
   "mimetype": "text/x-python",
   "name": "python",
   "nbconvert_exporter": "python",
   "pygments_lexer": "ipython3",
   "version": "3.8.1"
  }
 },
 "nbformat": 4,
 "nbformat_minor": 5
}
